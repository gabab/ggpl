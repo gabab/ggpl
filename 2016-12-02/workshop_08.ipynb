{
 "cells": [
  {
   "cell_type": "markdown",
   "metadata": {},
   "source": [
    "## House Building\n",
    "\n",
    "#### Model\n",
    "![](images/plan.jpg)\n",
    "\n",
    "#### Code"
   ]
  },
  {
   "cell_type": "code",
   "execution_count": 1,
   "metadata": {
    "collapsed": false
   },
   "outputs": [
    {
     "name": "stdout",
     "output_type": "stream",
     "text": [
      "Evaluating fenvs.py..\n",
      "...fenvs.py imported in 0.008167 seconds\n"
     ]
    },
    {
     "name": "stderr",
     "output_type": "stream",
     "text": [
      "/usr/local/lib/python2.7/dist-packages/larlib/larstruct.py:233: FutureWarning: comparison to `None` will result in an elementwise object comparison in the future.\n",
      "  self.body = [item for item in data if item != None]\n"
     ]
    }
   ],
   "source": [
    "from pyplasm import *\n",
    "from larlib import *\n",
    "\n",
    "\n",
    "def make_base(filename):\n",
    "    \"\"\"\n",
    "    Create an HPC from a .lines file\n",
    "    \n",
    "    Args:\n",
    "        filename: the path of the .lines file \n",
    "    Returns\n",
    "        an HPC value created from the .lines file, scaled accordingly\n",
    "    \n",
    "    \"\"\"\n",
    "    p = []\n",
    "    with open(filename) as f:\n",
    "        for line in f.read().splitlines():\n",
    "            values = map(lambda x: float(x), line.split(','))\n",
    "            p.append(POLYLINE([[values[1], values[0]], [values[3], values[2]]]))\n",
    "\n",
    "    return S([1, 2, 3])([0.015, 0.015, 0.015])(SOLIDIFY(STRUCT(p)))\n",
    "\n",
    "\n",
    "def make_walls(filename, height):\n",
    "    \"\"\"\n",
    "    Creates an HPC value representing walls from a .lines file\n",
    "    \n",
    "    Args:\n",
    "        filename: the path of the .lines file \n",
    "        height:   the desired height of the walls\n",
    "    Returns\n",
    "        an HPC value representing walls created from the .lines file\n",
    "    \"\"\"\n",
    "    return OFFSET([0,0, height])(make_base(filename))\n",
    "\n",
    "\n",
    "def make_floor(filename, height, texture):\n",
    "    \"\"\"\n",
    "    Creates an HPC value representing a floor from a .lines file\n",
    "    \n",
    "    Args:\n",
    "        filename: the path of the .lines file \n",
    "        height:   the desired height of the floor\n",
    "        texture:  the texture to apply to the HPC\n",
    "    Returns\n",
    "        an HPC value representing floors created from the .lines file\n",
    "    \"\"\"\n",
    "    return TEXTURE(texture)(OFFSET([0, 0, height])(make_base(filename)))"
   ]
  },
  {
   "cell_type": "markdown",
   "metadata": {},
   "source": [
    "#### Floor:"
   ]
  },
  {
   "cell_type": "code",
   "execution_count": 2,
   "metadata": {
    "collapsed": false
   },
   "outputs": [
    {
     "data": {
      "text/plain": [
       "<pyplasm.xgepy.Hpc; proxy of <Swig Object of type 'std::shared_ptr< Hpc > *' at 0x7ff2641ab7b0> >"
      ]
     },
     "execution_count": 2,
     "metadata": {},
     "output_type": "execute_result"
    }
   ],
   "source": [
    "floor = STRUCT([\n",
    "    make_floor('lines/ext_pavement.lines', 0.05, 'txt/ext.jpg'),\n",
    "    make_floor('lines/parquet.lines', 0.1, 'txt/parquet.jpg'),\n",
    "    make_floor('lines/bath_floor.lines', 0.1, 'txt/bath.jpg')\n",
    "])\n",
    "\n",
    "VIEW(floor)"
   ]
  },
  {
   "cell_type": "markdown",
   "metadata": {},
   "source": [
    "\n",
    "![](images/floor.png)\n",
    "\n",
    "#### Walls"
   ]
  },
  {
   "cell_type": "code",
   "execution_count": 3,
   "metadata": {
    "collapsed": false
   },
   "outputs": [
    {
     "data": {
      "text/plain": [
       "<pyplasm.xgepy.Hpc; proxy of <Swig Object of type 'std::shared_ptr< Hpc > *' at 0x7ff22d758870> >"
      ]
     },
     "execution_count": 3,
     "metadata": {},
     "output_type": "execute_result"
    }
   ],
   "source": [
    "walls = STRUCT([\n",
    "    make_walls('lines/ext_walls.lines', 3),\n",
    "    make_walls('lines/int_walls.lines', 3)\n",
    "])\n",
    "\n",
    "VIEW(walls)"
   ]
  },
  {
   "cell_type": "markdown",
   "metadata": {},
   "source": [
    "\n",
    "![](images/walls.png)\n",
    "\n",
    "#### Building Structure:"
   ]
  },
  {
   "cell_type": "code",
   "execution_count": 5,
   "metadata": {
    "collapsed": false
   },
   "outputs": [
    {
     "data": {
      "text/plain": [
       "<pyplasm.xgepy.Hpc; proxy of <Swig Object of type 'std::shared_ptr< Hpc > *' at 0x7ff22d582420> >"
      ]
     },
     "execution_count": 5,
     "metadata": {},
     "output_type": "execute_result"
    }
   ],
   "source": [
    "VIEW(STRUCT([floor, walls]))"
   ]
  },
  {
   "cell_type": "markdown",
   "metadata": {},
   "source": [
    "\n",
    "![](images/building.png)"
   ]
  },
  {
   "cell_type": "code",
   "execution_count": null,
   "metadata": {
    "collapsed": true
   },
   "outputs": [],
   "source": []
  }
 ],
 "metadata": {
  "kernelspec": {
   "display_name": "Python 2",
   "language": "python",
   "name": "python2"
  },
  "language_info": {
   "codemirror_mode": {
    "name": "ipython",
    "version": 2
   },
   "file_extension": ".py",
   "mimetype": "text/x-python",
   "name": "python",
   "nbconvert_exporter": "python",
   "pygments_lexer": "ipython2",
   "version": "2.7.12"
  }
 },
 "nbformat": 4,
 "nbformat_minor": 1
}
