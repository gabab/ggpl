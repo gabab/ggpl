{
 "cells": [
  {
   "cell_type": "markdown",
   "metadata": {},
   "source": [
    "### Roof Model\n",
    "\n",
    "![](reference.jpg)"
   ]
  },
  {
   "cell_type": "code",
   "execution_count": 1,
   "metadata": {
    "collapsed": false
   },
   "outputs": [
    {
     "name": "stdout",
     "output_type": "stream",
     "text": [
      "Evaluating fenvs.py..\n",
      "...fenvs.py imported in 0.007136 seconds\n"
     ]
    },
    {
     "name": "stderr",
     "output_type": "stream",
     "text": [
      "/usr/local/lib/python2.7/dist-packages/larlib/larstruct.py:233: FutureWarning: comparison to `None` will result in an elementwise object comparison in the future.\n",
      "  self.body = [item for item in data if item != None]\n"
     ]
    }
   ],
   "source": [
    "from pyplasm import *\n",
    "from larlib import *"
   ]
  },
  {
   "cell_type": "code",
   "execution_count": 11,
   "metadata": {
    "collapsed": true
   },
   "outputs": [],
   "source": [
    "def ggpl_roof_builder(verts, cell):   \n",
    "    \"\"\"\n",
    "    Return a HPC value describing a roof structure.\n",
    "\n",
    "    Args:\n",
    "        verts: a list of vertex coordinates (as list of three elements)\n",
    "        cells: a list of cells\n",
    "    Returns:\n",
    "        a HPC value representing a roof parameterized by the arguments\n",
    "    \"\"\"\n",
    "    \n",
    "    # wrapper to COLOR with (0, 255) RGB scale and (0, 1) alpha channel scale\n",
    "    rgba = lambda r, g, b, a=1: COLOR([r / 255.0, g / 255.0, b / 255.0, a])\n",
    "\n",
    "    roof = rgba(114, 54, 4)(MKPOL([verts, cell, None]))\n",
    "    skeleton = rgba(81, 37, 1)(OFFSET([0.2, 0.2, 0.2])(SKEL_1(roof)))\n",
    "\n",
    "    return STRUCT([skeleton, roof])"
   ]
  },
  {
   "cell_type": "markdown",
   "metadata": {},
   "source": [
    "### Inputs"
   ]
  },
  {
   "cell_type": "code",
   "execution_count": 12,
   "metadata": {
    "collapsed": true
   },
   "outputs": [],
   "source": [
    "roof_1 = [\n",
    "    [\n",
    "        [ 0.0, 2.6, 0.0], [ 7.0, 2.6, 0.0], [10.0, 2.6, 2.5], [ 8.5, 0.0, 0.0],\n",
    "        [11.5, 0.0, 0.0], [13.0, 2.6, 0.0], [15.0, 2.6, 0.0], [10.0, 6.1, 2.5],\n",
    "        [ 2.0, 6.1, 2.5], [11.0, 6.1, 2.5], [ 0.0, 9.6, 0.0], [15.0, 9.6, 0.0]\n",
    "    ],\n",
    "\n",
    "\n",
    "    [\n",
    "        [1, 9, 11], [1, 2, 8, 9], [6, 7, 8, 10], [2,  3,  4],    [ 3,  4,  5],\n",
    "        [3, 5,  6],    [3, 6, 8],     [2, 3, 8], [7, 12, 10], [9, 10, 11, 12]\n",
    "    ]\n",
    "]\n",
    "\n",
    "roof_2 = [\n",
    "    [\n",
    "        [ 0.0,  2.6, 0.0], [ 7.0,  2.6, 0.0], [10.0,  2.6, 4.0],\n",
    "        [ 8.5,  0.0, 0.0], [11.5,  0.0, 0.0], [13.0,  2.6, 0.0],\n",
    "        [10.0,  8.6, 4.0], [ 2.0,  8.6, 4.0], [17.6,  8.6, 4.0],\n",
    "        [ 0.0, 14.6, 0.0], [18.6,  2.6, 0.0], [18.6, 14.6, 0.0],\n",
    "        [20.6,  3.6, 0.0], [20.6, 13.6, 0.0], [22.6,  5.6, 0.0],\n",
    "        [22.6, 11.6, 0.0], [23.6,  7.6, 0.0], [23.6,  9.6, 0.0],\n",
    "        [ 2.0, 14.6, 0.0], [ 2.0, 19.6, 0.0], [ 9.0, 14.6, 0.0],\n",
    "        [ 9.0, 19.6, 0.0], [ 5.5,  8.6, 4.0], [ 5.5, 16.1, 4.0]\n",
    "    ],\n",
    "\n",
    "    [\n",
    "        [1,  8, 10],     [ 1,  2,  7,  8], [ 2,  3,  4], [ 3,  4,  5],\n",
    "        [3,  5,  6],     [ 3,  6,  7],     [ 2,  3,  7], [ 8, 10, 19, 23],\n",
    "        [9, 12, 21, 23], [ 6,  7,  9, 11], [ 9, 11, 13], [ 9, 13, 15],\n",
    "        [9, 15, 17],     [ 9, 17, 18],     [ 9, 12, 14], [ 9, 14, 16],\n",
    "        [9, 16, 18],     [19, 20, 23, 24], [20, 22, 24], [21, 22, 23, 24]\n",
    "    ]\n",
    "]"
   ]
  },
  {
   "cell_type": "markdown",
   "metadata": {},
   "source": [
    "### Output\n",
    "\n",
    "#### Roof 1:"
   ]
  },
  {
   "cell_type": "code",
   "execution_count": 13,
   "metadata": {
    "collapsed": false
   },
   "outputs": [
    {
     "data": {
      "text/plain": [
       "<pyplasm.xgepy.Hpc; proxy of <Swig Object of type 'std::shared_ptr< Hpc > *' at 0x7fd47a766b40> >"
      ]
     },
     "execution_count": 13,
     "metadata": {},
     "output_type": "execute_result"
    }
   ],
   "source": [
    "VIEW(ggpl_roof_builder(*roof_1))"
   ]
  },
  {
   "cell_type": "markdown",
   "metadata": {},
   "source": [
    "![](roof1.png)\n",
    "\n",
    "#### Roof 2"
   ]
  },
  {
   "cell_type": "code",
   "execution_count": 16,
   "metadata": {
    "collapsed": false
   },
   "outputs": [
    {
     "data": {
      "text/plain": [
       "<pyplasm.xgepy.Hpc; proxy of <Swig Object of type 'std::shared_ptr< Hpc > *' at 0x7fd47a766540> >"
      ]
     },
     "execution_count": 16,
     "metadata": {},
     "output_type": "execute_result"
    }
   ],
   "source": [
    "VIEW(ggpl_roof_builder(*roof_2))"
   ]
  },
  {
   "cell_type": "markdown",
   "metadata": {},
   "source": [
    "![](roof2.png)"
   ]
  },
  {
   "cell_type": "code",
   "execution_count": null,
   "metadata": {
    "collapsed": true
   },
   "outputs": [],
   "source": []
  }
 ],
 "metadata": {
  "kernelspec": {
   "display_name": "Python 2",
   "language": "python",
   "name": "python2"
  },
  "language_info": {
   "codemirror_mode": {
    "name": "ipython",
    "version": 2
   },
   "file_extension": ".py",
   "mimetype": "text/x-python",
   "name": "python",
   "nbconvert_exporter": "python",
   "pygments_lexer": "ipython2",
   "version": "2.7.12"
  }
 },
 "nbformat": 4,
 "nbformat_minor": 1
}
