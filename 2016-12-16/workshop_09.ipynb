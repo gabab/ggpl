{
 "cells": [
  {
   "cell_type": "markdown",
   "metadata": {},
   "source": [
    "## Workshop 9\n",
    "### Parametric building of a roof\n",
    "\n",
    "#### Code"
   ]
  },
  {
   "cell_type": "code",
   "execution_count": 7,
   "metadata": {
    "collapsed": false
   },
   "outputs": [],
   "source": [
    "import math\n",
    "from pyplasm import *\n",
    "from larlib import *"
   ]
  },
  {
   "cell_type": "code",
   "execution_count": 11,
   "metadata": {
    "collapsed": false
   },
   "outputs": [],
   "source": [
    "def pairList(inputList):\n",
    "    \"\"\"\n",
    "    Given a list L as input, returns a new list formed by couples of consecutive\n",
    "    elements of L\n",
    "\n",
    "    Example:\n",
    "        input:  [e1, e2, e3, ... , eK]\n",
    "        output: [[e1, e2], [e2, e3], ..., [eK - 1, eK], [eK, e1]]\n",
    "\n",
    "    Args:\n",
    "        inputList: the list to process\n",
    "\n",
    "    Returns:\n",
    "        outputList: a new list formed by couples of consecutive elements\n",
    "                    of the input list\n",
    "    \"\"\"\n",
    "\n",
    "    inputLen = len(inputList)\n",
    "    outputList = []\n",
    "\n",
    "    for i in range(0, inputLen - 1):\n",
    "        outputList.append([inputList[i], inputList[i + 1]])\n",
    "\n",
    "    if (inputLen > 0):\n",
    "        outputList.append([inputList[inputLen - 1], inputList[0]])\n",
    "\n",
    "    return outputList\n",
    "\n",
    "\n",
    "\n",
    "def rotatePoints(directions, angle):\n",
    "    \"\"\"\n",
    "    Given a list of directions L and an angle A as input, returns a list of points\n",
    "    A direction is represented with a list composed of two element ([point, quadrant]), \n",
    "    where point is a list with three integers describing the point coordinates ([x, y, z]), \n",
    "    while quadrant is an integer 1 and 4 that determines the rotation for the x and y axis.\n",
    "    If quadrant is zero then no rotation is applied to the first two coordinates.\n",
    "    Angle represents the desired rotation angle for the z axis.\n",
    "\n",
    "    Example:\n",
    "        input:   [[[1, 1, 1], 2], [[3, 5, 7], 1], [[8, 5, 5], 4]], 0\n",
    "        output:\n",
    "\n",
    "    Args:\n",
    "        directions: a list of directions\n",
    "        angle:      the angle of rotation in the z axis\n",
    "\n",
    "    Returns:\n",
    "       points:      a list of points\n",
    "\n",
    "    \"\"\"\n",
    "\n",
    "    factors = ((1, 1), (-1, 1), (-1, -1), (1, -1))\n",
    "\n",
    "    points = []\n",
    "\n",
    "    for point, quadrant in directions:\n",
    "\n",
    "        if quadrant < 1 or quadrant > 4:\n",
    "            fX, fY = (0, 0)\n",
    "        else:\n",
    "            fX, fY = factors[quadrant - 1]\n",
    "\n",
    "        points.append(\n",
    "            [\n",
    "                point[0] + fX * (30 * math.cos(math.pi / 4)),\n",
    "                point[1] + fY * (30 * math.sin(math.pi / 4)),\n",
    "                point[2] + (30 * math.sin(angle))\n",
    "            ])\n",
    "\n",
    "    return points + [points[0]]\n",
    "\n",
    "def ggpl_create_roof(verts, cells, angle, directions):\n",
    "    \"\"\"\n",
    "    Given a list of verts, a list of cells, an angle and a \n",
    "    list of directions, returns an HPC model representing a roof\n",
    "    \n",
    "    Args:\n",
    "        verts: list of verts\n",
    "        cells: list of cells\n",
    "        angle: rotation angle (z axis)\n",
    "        directions: list of directions\n",
    "    \n",
    "    Returns:\n",
    "        An HPC model representing a roof\n",
    "    \"\"\"\n",
    "    # utility function for easy texture application\n",
    "    apply_texture = lambda pol, txt: TEXTURE(txt)(pol)\n",
    "\n",
    "    # determine \"bottom\" verts\n",
    "    bottomVerts = rotatePoints(directions, angle)\n",
    "\n",
    "    # create slopes and \"upper\" roof polygon \n",
    "    bottom = pairList(bottomVerts)\n",
    "    top = pairList(verts)\n",
    "    \n",
    "    slopes = []\n",
    "    for i in range(0, len(top)):\n",
    "        slopes.append(MKPOL([[\n",
    "                              top[i][0], top[i][1], \n",
    "                              bottom[i][0], bottom[i][1]\n",
    "                             ],\n",
    "                             [[1, 2, 3, 4]],\n",
    "                             1]))\n",
    "        \n",
    "    roof = STRUCT([MKPOL([bottomVerts, cells, 1])] + slopes + [MKPOL([verts, cells, 1])])\n",
    "    \n",
    "    return apply_texture(roof, 'txt/roof.jpg')"
   ]
  },
  {
   "cell_type": "markdown",
   "metadata": {},
   "source": [
    "#### Input Values"
   ]
  },
  {
   "cell_type": "code",
   "execution_count": 12,
   "metadata": {
    "collapsed": false
   },
   "outputs": [],
   "source": [
    "angle = math.pi / 6.0\n",
    "\n",
    "cells = [[1, 2, 8],\n",
    "         [2, 3, 8],\n",
    "         [3, 5, 8], \n",
    "         [3, 4, 5],\n",
    "         [5, 6, 7, 8]]\n",
    "\n",
    "verts = [[120, 120, 0],\n",
    "         [120, 75, 0],\n",
    "         [15, 75, 0],\n",
    "         [15, 120, 0],\n",
    "         [45, 120, 0],\n",
    "         [45, 141, 0],\n",
    "         [90, 141, 0],\n",
    "         [90, 120, 0]]\n",
    "\n",
    "directions = [[verts[0], 1],\n",
    "              [verts[1], 4],\n",
    "              [verts[2], 3],\n",
    "              [verts[3], 2],\n",
    "              [verts[4], 2],\n",
    "              [verts[5], 2],\n",
    "              [verts[6], 1],\n",
    "              [verts[7], 1],\n",
    "             ]"
   ]
  },
  {
   "cell_type": "markdown",
   "metadata": {},
   "source": [
    "#### Output"
   ]
  },
  {
   "cell_type": "code",
   "execution_count": null,
   "metadata": {
    "collapsed": false
   },
   "outputs": [],
   "source": [
    "VIEW(ggpl_create_roof(verts, cells, angle, directions))"
   ]
  },
  {
   "cell_type": "markdown",
   "metadata": {
    "collapsed": true
   },
   "source": [
    "![](images/output.png)"
   ]
  },
  {
   "cell_type": "code",
   "execution_count": null,
   "metadata": {
    "collapsed": true
   },
   "outputs": [],
   "source": []
  }
 ],
 "metadata": {
  "kernelspec": {
   "display_name": "Python 2",
   "language": "python",
   "name": "python2"
  },
  "language_info": {
   "codemirror_mode": {
    "name": "ipython",
    "version": 2
   },
   "file_extension": ".py",
   "mimetype": "text/x-python",
   "name": "python",
   "nbconvert_exporter": "python",
   "pygments_lexer": "ipython2",
   "version": "2.7.12+"
  }
 },
 "nbformat": 4,
 "nbformat_minor": 1
}
