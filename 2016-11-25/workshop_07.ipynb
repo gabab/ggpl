{
 "cells": [
  {
   "cell_type": "markdown",
   "metadata": {},
   "source": [
    "# Design of Doors and Windows\n",
    "\n",
    "### Window Model\n",
    "\n",
    "![](images/window_model.png)\n",
    "\n",
    "### Door Model\n",
    "\n",
    "![](images/door_model.jpg)\n",
    "\n",
    "### Code\n"
   ]
  },
  {
   "cell_type": "code",
   "execution_count": 2,
   "metadata": {
    "collapsed": false
   },
   "outputs": [],
   "source": [
    "from pyplasm import *\n",
    "from larlib import *\n",
    "\n",
    "\"\"\"\n",
    "    Wrapper to COLOR with RGBA 0-255 scale\n",
    "    \n",
    "    Args:\n",
    "        r:  the value of the red channel. An \n",
    "            integer between 0 and 255.\n",
    "        b:  the value of the blue channel. An \n",
    "            integer between 0 and 255.\n",
    "        g:  the value of the green channel. An \n",
    "            integer between 0 and 255.\n",
    "        a:  the value of the alpha channel. A\n",
    "            float between 0 and 1.\n",
    "            Default value: 1\n",
    "    \n",
    "    Returns\n",
    "        The COLOR function with the desired color\n",
    "\"\"\"\n",
    "rgba = lambda r, g, b, a=1: COLOR([r / 255.0, g / 255.0, b /255.0, a])\n",
    "\n",
    "\n",
    "def addNeg(l, x):\n",
    "    \"\"\"\n",
    "        Negates the positive number x and adds it to the list l.\n",
    "        If the last element of l is negative, then adds -x to it,\n",
    "        otherwise appends -x to l.\n",
    "        \n",
    "        Args:\n",
    "            x:  the number to negate and append\n",
    "            l:  the list to append\n",
    "        \n",
    "        Returns:\n",
    "            N/A\n",
    "    \"\"\"\n",
    "    if l != [] and l[-1] < 0:\n",
    "        l[-1] -= x\n",
    "    else:\n",
    "        l.append(-x)\n",
    "\n",
    "\n",
    "def glassStruct(X, Y, Z, occupancy, (glassColor, structColor)):\n",
    "    \"\"\"\n",
    "        Creates a glass structure described by the input args.\n",
    "        \n",
    "        Args:\n",
    "            X:         float list of lateral quotes (X-axis)\n",
    "            Y:         float list of lateral quotes (Y-axis)\n",
    "            Z:         float list of lateral quotes (Z-axis).\n",
    "                       Only the first two values are used:\n",
    "                       The first value for the glass depth,\n",
    "                       the second value for the struct depth\n",
    "            occupancy: a list of integer lists representing \n",
    "                       the incidence matrix of X on Y.\n",
    "                       If occupancy[i][j] is 1, then the struct\n",
    "                       is present, else there is glass\n",
    "            glassColor: glass color\n",
    "            structColor: struct color\n",
    "        Returns\n",
    "            An HPC value representing the desired structure\n",
    "    \"\"\"\n",
    "\n",
    "    def aux(dx, dy, dz):\n",
    "        \"\"\"\n",
    "            glassStruct auxiliary function. Creates the glass\n",
    "            structure and scales it by the parameters\n",
    "            Args:\n",
    "                dx: scaling value (X-axis)\n",
    "                dy: scaling value (Y-axis)\n",
    "                dz: scaling value (Z-axis)\n",
    "            Returns\n",
    "                An HPC value representing the desired structure,\n",
    "                scaled accordingly\n",
    "        \"\"\"\n",
    "        prodX = lambda *args: reduce(lambda x, y: PROD([x, y]), args)\n",
    "        struct = []\n",
    "        glass = []\n",
    "        for iY in range(0, len(Y)):\n",
    "            structV = []\n",
    "            glassV = []\n",
    "            for iX in range(0, len(X)):\n",
    "                value = X[iX]\n",
    "                if occupancy[iY][iX] == 1:\n",
    "                    structV.append(value)\n",
    "                    addNeg(glassV, value)\n",
    "                else:\n",
    "                    addNeg(structV, value)\n",
    "                    glassV.append(value)\n",
    "\n",
    "            t = T([2])(Y[iY])\n",
    "            if len(structV) > 1:\n",
    "                struct.append(prodX(QUOTE(structV), QUOTE([Y[iY]]), QUOTE([Z[1]])))\n",
    "\n",
    "            if len(glassV) > 1:\n",
    "                glass.append(prodX(QUOTE(glassV), QUOTE([Y[iY]]), QUOTE([Z[0]])))\n",
    "\n",
    "            struct.append(t)\n",
    "            glass.append(t)\n",
    "\n",
    "        final_struct = STRUCT(\n",
    "            [\n",
    "                T(3)(Z[1] / 2.0),\n",
    "                rgba(*glassColor)(STRUCT(glass)),\n",
    "                T(3)(-(Z[1] / 2.0)),\n",
    "                rgba(*structColor)(STRUCT(struct))\n",
    "            ])\n",
    "\n",
    "        return STRUCT([S([1, 2, 3])([dx, dy, dz]), final_struct])\n",
    "    return aux\n",
    "\n",
    "\n",
    "def ggpl_window(X, Y, Z, occupancy):\n",
    "    \"\"\"\n",
    "        Creates a window described by the input args.\n",
    "        \n",
    "        Args:\n",
    "            X:         float list of lateral quotes (X-axis)\n",
    "            Y:         float list of lateral quotes (Y-axis)\n",
    "            Z:         float list of lateral quotes (Z-axis).\n",
    "                       Only the first two values are used:\n",
    "                       The first value for the glass depth,\n",
    "                       the second value for the struct depth\n",
    "            occupancy: a list of integer lists representing \n",
    "                       the incidence matrix of X on Y.\n",
    "                       If occupancy[i][j] is 1, then the struct\n",
    "                       is present, else there is glass\n",
    "        Returns\n",
    "            An HPC value representing a window\n",
    "    \"\"\"\n",
    "    return glass_struct(X, Y, Z, occupancy, ((182, 208, 249), (255, 255, 255)))\n",
    "\n",
    "\n",
    "def ggpl_door(X, Y, Z, occupancy):\n",
    "    \"\"\"\n",
    "        Creates a door described by the input args.\n",
    "\n",
    "        Args:\n",
    "            X:         float list of lateral quotes (X-axis)\n",
    "            Y:         float list of lateral quotes (Y-axis)\n",
    "            Z:         float list of lateral quotes (Z-axis).\n",
    "                       Only the first two values are used:\n",
    "                       The first value for the glass depth,\n",
    "                       the second value for the struct depth\n",
    "            occupancy: a list of integer lists representing \n",
    "                       the incidence matrix of X on Y.\n",
    "                       If occupancy[i][j] is 1, then the struct\n",
    "                       is present, else there is glass\n",
    "        Returns\n",
    "            An HPC value representing a door\n",
    "    \"\"\"\n",
    "    return glass_struct(X, Y, Z, occupancy, ((182, 208, 249), (0, 0, 0)))"
   ]
  },
  {
   "cell_type": "markdown",
   "metadata": {},
   "source": [
    "#### Input\n",
    "##### Window\n"
   ]
  },
  {
   "cell_type": "code",
   "execution_count": 3,
   "metadata": {
    "collapsed": true
   },
   "outputs": [],
   "source": [
    "window = [\n",
    "    # X\n",
    "    [0.07, 0.15, 0.015, 0.15,\n",
    "     0.015, 0.15, 0.07],\n",
    "    # Y\n",
    "    [0.07, 0.18, 0.015, 0.18,\n",
    "     0.07, 0.18, 0.015, 0.18,\n",
    "     0.07],\n",
    "    # Z\n",
    "    [0.01, 0.05],\n",
    "    # occupancy\n",
    "    [\n",
    "        [1, 1, 1, 1, 1, 1, 1],\n",
    "        [1, 0, 1, 0, 1, 0, 1],\n",
    "        [1, 1, 1, 1, 1, 1, 1],\n",
    "        [1, 0, 1, 0, 1, 0, 1],\n",
    "        [1, 1, 1, 1, 1, 1, 1],\n",
    "        [1, 0, 1, 0, 1, 0, 1],\n",
    "        [1, 1, 1, 1, 1, 1, 1],\n",
    "        [1, 0, 1, 0, 1, 0, 1],\n",
    "        [1, 1, 1, 1, 1, 1, 1],\n",
    "    ]\n",
    "]"
   ]
  },
  {
   "cell_type": "markdown",
   "metadata": {},
   "source": [
    "##### Door\n"
   ]
  },
  {
   "cell_type": "code",
   "execution_count": 5,
   "metadata": {
    "collapsed": true
   },
   "outputs": [],
   "source": [
    "door = [\n",
    "    # X\n",
    "    [0.0125, 0.5, 0.125, 0.025,\n",
    "     0.125, 0.5, 0.0125],\n",
    "    # Y\n",
    "    [0.025, 0.3, 0.0125, 0.3,\n",
    "     0.0125, 0.3, 0.0125, 1.2,\n",
    "     0.025],\n",
    "    # Z\n",
    "    [0.01, 0.07],\n",
    "    # occupancy\n",
    "    [\n",
    "        [1, 1, 1, 1, 1, 1, 1],\n",
    "        [1, 0, 0, 1, 0, 0, 1],\n",
    "        [1, 1, 1, 1, 1, 1, 1],\n",
    "        [1, 0, 0, 1, 0, 0, 1],\n",
    "        [1, 1, 1, 1, 1, 1, 1],\n",
    "        [1, 0, 1, 1, 1, 0, 1],\n",
    "        [1, 1, 1, 1, 1, 1, 1],\n",
    "        [1, 0, 0, 1, 0, 0, 1],\n",
    "        [1, 1, 1, 1, 1, 1, 1]\n",
    "    ]\n",
    "]"
   ]
  },
  {
   "cell_type": "markdown",
   "metadata": {},
   "source": [
    "#### Output\n",
    "\n",
    "##### Window\n"
   ]
  },
  {
   "cell_type": "code",
   "execution_count": 10,
   "metadata": {
    "collapsed": false
   },
   "outputs": [
    {
     "data": {
      "text/plain": [
       "<pyplasm.xgepy.Hpc; proxy of <Swig Object of type 'std::shared_ptr< Hpc > *' at 0x7f2abcc4de40> >"
      ]
     },
     "execution_count": 10,
     "metadata": {},
     "output_type": "execute_result"
    }
   ],
   "source": [
    "VIEW(ggpl_window(*window)(1, 1, 1))"
   ]
  },
  {
   "cell_type": "markdown",
   "metadata": {},
   "source": [
    "\n",
    "![](images/window_out1.png)\n"
   ]
  },
  {
   "cell_type": "code",
   "execution_count": 11,
   "metadata": {
    "collapsed": false
   },
   "outputs": [
    {
     "data": {
      "text/plain": [
       "<pyplasm.xgepy.Hpc; proxy of <Swig Object of type 'std::shared_ptr< Hpc > *' at 0x7f2abcc4d780> >"
      ]
     },
     "execution_count": 11,
     "metadata": {},
     "output_type": "execute_result"
    }
   ],
   "source": [
    "VIEW(ggpl_window(*window)(1, 1.5, 1))"
   ]
  },
  {
   "cell_type": "markdown",
   "metadata": {},
   "source": [
    "\n",
    "![](images/window_out2.png)\n",
    "\n",
    "##### Door\n"
   ]
  },
  {
   "cell_type": "code",
   "execution_count": 12,
   "metadata": {
    "collapsed": false
   },
   "outputs": [
    {
     "data": {
      "text/plain": [
       "<pyplasm.xgepy.Hpc; proxy of <Swig Object of type 'std::shared_ptr< Hpc > *' at 0x7f2abcc4dcc0> >"
      ]
     },
     "execution_count": 12,
     "metadata": {},
     "output_type": "execute_result"
    }
   ],
   "source": [
    "VIEW(ggpl_door(*door)(1, 1, 1))"
   ]
  },
  {
   "cell_type": "markdown",
   "metadata": {},
   "source": [
    "\n",
    "![](images/door_out1.png)\n"
   ]
  },
  {
   "cell_type": "code",
   "execution_count": 14,
   "metadata": {
    "collapsed": false
   },
   "outputs": [
    {
     "data": {
      "text/plain": [
       "<pyplasm.xgepy.Hpc; proxy of <Swig Object of type 'std::shared_ptr< Hpc > *' at 0x7f2abcc4d4b0> >"
      ]
     },
     "execution_count": 14,
     "metadata": {},
     "output_type": "execute_result"
    }
   ],
   "source": [
    "VIEW(ggpl_door(*door)(1, 1.3, 2.3))"
   ]
  },
  {
   "cell_type": "markdown",
   "metadata": {},
   "source": [
    "\n",
    "![](images/door_out2.png)\n"
   ]
  }
 ],
 "metadata": {
  "kernelspec": {
   "display_name": "Python 2",
   "language": "python",
   "name": "python2"
  },
  "language_info": {
   "codemirror_mode": {
    "name": "ipython",
    "version": 2
   },
   "file_extension": ".py",
   "mimetype": "text/x-python",
   "name": "python",
   "nbconvert_exporter": "python",
   "pygments_lexer": "ipython2",
   "version": "2.7.12"
  }
 },
 "nbformat": 4,
 "nbformat_minor": 1
}
