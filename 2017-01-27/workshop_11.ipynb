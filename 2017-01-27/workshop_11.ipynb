{
 "cells": [
  {
   "cell_type": "markdown",
   "metadata": {
    "collapsed": true
   },
   "source": [
    "# Model of suburban neighborhood\n",
    "\n",
    "#### Model\n",
    "\n",
    "![](images/model.jpg)\n",
    "\n",
    "#### Code\n",
    "import workshop 10"
   ]
  },
  {
   "cell_type": "code",
   "execution_count": null,
   "metadata": {
    "collapsed": false
   },
   "outputs": [],
   "source": [
    "%run workshop_10.py"
   ]
  },
  {
   "cell_type": "markdown",
   "metadata": {},
   "source": [
    "##### Utility functions"
   ]
  },
  {
   "cell_type": "code",
   "execution_count": null,
   "metadata": {
    "collapsed": false
   },
   "outputs": [],
   "source": [
    "get_house = lambda: ggpl_multistorey_house(house)"
   ]
  },
  {
   "cell_type": "markdown",
   "metadata": {},
   "source": [
    "##### Main Function"
   ]
  },
  {
   "cell_type": "code",
   "execution_count": null,
   "metadata": {
    "collapsed": false
   },
   "outputs": [],
   "source": [
    "def suburban_neighborhood(h_blocks=1, v_blocks=1):\n",
    "    \"\"\"\n",
    "    Returns an HPC model representing a suburban neighborhood\n",
    "    A block is a set of adiacent houses.\n",
    "    \n",
    "    Args:\n",
    "        h_block: number of horizontal blocks (default 1)\n",
    "        v_blocks: number of vertical blocks (default 1)\n",
    "    \n",
    "    Returns:\n",
    "        An HPC model representing a suburban neighborhood\n",
    "    \"\"\"\n",
    "    # parameters\n",
    "    \n",
    "    HOUSE_PER_BLOCK = 4\n",
    "    \n",
    "    # current structure dimension\n",
    "    x, y = 14, 17\n",
    "    \n",
    "    # create house model\n",
    "    house = get_house()\n",
    "\n",
    "    # create garden\n",
    "    garden = apply_texture(CUBOID([x, y, 0.02]), 'txt/grass.jpg')\n",
    "\n",
    "    # adjust house dimensions and place it in the garden \n",
    "    unit = STRUCT([garden, \n",
    "               T([1, 2, 3])([3, 2.7, 0.019]), \n",
    "               S([1, 2, 3])([0.7, 0.7, 0.7])(house)])\n",
    "\n",
    "    # create fence\n",
    "    fence = STRUCT([CUBOID([x, 0.2, 2.5]),\n",
    "                    T(1)(x),\n",
    "                    CUBOID([0.2, y, 2.5]),\n",
    "                    T([1, 2])([-x, y - 0.2]),\n",
    "                    CUBOID([x, 0.2, 2.5])])\n",
    "    \n",
    "    # create housing unit\n",
    "    unit = STRUCT([unit, fence])\n",
    "        \n",
    "    # make a block. we choose to place \n",
    "    units = [unit]\n",
    "    \n",
    "    # temp variable to memorize y\n",
    "    \n",
    "    for i in range(1, HOUSE_PER_BLOCK):\n",
    "        units += [T(2)(y), unit]\n",
    "    \n",
    "    \n",
    "    # update current struct dimension\n",
    "    y *= HOUSE_PER_BLOCK\n",
    "        \n",
    "    houses = T([1, 2])([x, y])(R([1, 2])(math.pi)(STRUCT(units)))\n",
    "    \n",
    "    # create pavement\n",
    "    p1 = CUBOID([x + 3, 3, 0.03])\n",
    "    pavement = apply_texture(STRUCT([p1, \n",
    "                   T([1, 2])([x, 3]), \n",
    "                   CUBOID([3, y, 0.03]),\n",
    "                   T([1, 2])([-x, y]),\n",
    "                   p1]), 'txt/pavement.jpg')\n",
    "\n",
    "    # update current struct dimension with pavement dimension\n",
    "    x += 3\n",
    "    y += 6\n",
    "    \n",
    "    s1 = CUBOID([x + 4, 4, 0.01])\n",
    "\n",
    "    street = apply_texture(STRUCT([s1, \n",
    "                   T([1, 2])([x, 4]), \n",
    "                   CUBOID([4, y, 0.01]),\n",
    "                   T([1, 2])([-x, y]),\n",
    "                   s1]), 'txt/street.jpg')\n",
    "\n",
    "    # update current struct dimension\n",
    "    x += 4\n",
    "    y += 8\n",
    "    \n",
    "\n",
    "    # create an half_block\n",
    "    half_block = STRUCT([T(2)(7), \n",
    "                         houses, \n",
    "                         T(2)(-3), \n",
    "                         pavement, \n",
    "                         T(2)(-4), \n",
    "                         street])\n",
    "    \n",
    "    # create a block by combining two blocks\n",
    "    block = STRUCT([half_block, \n",
    "                    T(2)(y), R([1, 2])(math.pi)(half_block)])\n",
    "    \n",
    "    # update dimensions\n",
    "    \n",
    "    x *= 2\n",
    "    \n",
    "    # create neighborhood\n",
    "    \n",
    "    neighborhood = []\n",
    "\n",
    "    for i in range(0, v_blocks):\n",
    "        for j in range(0, h_blocks):\n",
    "            neighborhood += [T(2)(y), block]\n",
    "        neighborhood.append(T([1, 2])([x, -y * (j + 1)]))\n",
    "\n",
    "    return STRUCT(neighborhood)\n"
   ]
  },
  {
   "cell_type": "markdown",
   "metadata": {
    "collapsed": true
   },
   "source": [
    "#### Output 1\n",
    "\n",
    "A suburban neighborhood with nine blocks (3 x 3) and 72 houses"
   ]
  },
  {
   "cell_type": "code",
   "execution_count": null,
   "metadata": {
    "collapsed": false
   },
   "outputs": [],
   "source": [
    "VIEW(suburban_neighborhood(3, 3))"
   ]
  },
  {
   "cell_type": "markdown",
   "metadata": {},
   "source": [
    "![](images/out1_1.png)\n",
    "\n",
    "![](images/out1_2.png)\n",
    "\n",
    "#### Output 2\n",
    "A suburban neighborhood with sixty-four blocks (8 x 8) and 512 houses"
   ]
  },
  {
   "cell_type": "code",
   "execution_count": null,
   "metadata": {
    "collapsed": false
   },
   "outputs": [],
   "source": [
    "VIEW(suburban_neighborhood(8, 8))"
   ]
  },
  {
   "cell_type": "markdown",
   "metadata": {},
   "source": [
    "![](images/out2_1.png)\n",
    "\n",
    "![](images/out2_2.png)"
   ]
  },
  {
   "cell_type": "code",
   "execution_count": null,
   "metadata": {
    "collapsed": true
   },
   "outputs": [],
   "source": []
  }
 ],
 "metadata": {
  "kernelspec": {
   "display_name": "Python 2",
   "language": "python",
   "name": "python2"
  },
  "language_info": {
   "codemirror_mode": {
    "name": "ipython",
    "version": 2
   },
   "file_extension": ".py",
   "mimetype": "text/x-python",
   "name": "python",
   "nbconvert_exporter": "python",
   "pygments_lexer": "ipython2",
   "version": "2.7.12+"
  }
 },
 "nbformat": 4,
 "nbformat_minor": 1
}
