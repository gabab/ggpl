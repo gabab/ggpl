{
 "cells": [
  {
   "cell_type": "code",
   "execution_count": 2,
   "metadata": {
    "collapsed": false
   },
   "outputs": [
    {
     "name": "stderr",
     "output_type": "stream",
     "text": [
      "/usr/local/lib/python2.7/dist-packages/larlib/larstruct.py:233: FutureWarning: comparison to `None` will result in an elementwise object comparison in the future.\n",
      "  self.body = [item for item in data if item != None]\n"
     ]
    }
   ],
   "source": [
    "from pyplasm import *\n",
    "from larlib import *"
   ]
  },
  {
   "cell_type": "code",
   "execution_count": 7,
   "metadata": {
    "collapsed": false
   },
   "outputs": [],
   "source": [
    "def getStepParameters(radius, z):\n",
    "    \"\"\"\n",
    "    Processes input parameters\n",
    "\n",
    "    Args:\n",
    "        x: area size on the x axis\n",
    "        x: area size on the y axis\n",
    "        x: area size on the z axis\n",
    "\n",
    "    Returns:\n",
    "        stepDim: tuple containing step dimension (x, y, z)\n",
    "        rotationAngle: angle to witch rotate every step\n",
    "        internalRadius: radius of the internal (void) circle. Could be 0\n",
    "      \"\"\"\n",
    "    # steps dimension for good practice\n",
    "    STEP_SIZE = (0.4, 0.8, 0.16)\n",
    "\n",
    "    radius = radius / 2.0\n",
    "    stepY = radius if STEP_SIZE[1] > radius else STEP_SIZE[1]\n",
    "    internalRadius = radius - stepY\n",
    "\n",
    "    rotationAngle = ASIN(STEP_SIZE[0] / stepY)\n",
    "\n",
    "    return ((STEP_SIZE[0], stepY, STEP_SIZE[2]), \n",
    "            rotationAngle,\n",
    "            internalRadius)\n",
    "\n",
    "\n",
    "def ggpl_spiral_stairs(dx, dy, dz):\n",
    "    \"\"\"\n",
    "    Returns an HPC value describing a set of spiral stairs contained\n",
    "    in an area defined by input parameters.\n",
    "\n",
    "    Args:\n",
    "        x: area size on the x axis\n",
    "        x: area size on the y axis\n",
    "        x: area size on the z axis\n",
    "\n",
    "    Returns:\n",
    "        area: an HPC value describing a set of stairs contained in a\n",
    "              boxed area defined by input parameters\n",
    "    \"\"\"\n",
    "    stepDim, angle, radius = getStepParameters(min(dx, dy), dz)\n",
    "    stepX, stepY, stepZ = stepDim\n",
    "\n",
    "    stepsNumber = int(dz / stepZ)\n",
    "\n",
    "    rise = CUBOID([1.3 * stepX, stepY, stepZ])\n",
    "    step = STRUCT([T(2)(radius), rise, T(3)(stepZ)])\n",
    "\n",
    "    rotation = 0\n",
    "    steps = []\n",
    "\n",
    "    # create stairs\n",
    "    for i in range (0, stepsNumber + 1):\n",
    "        steps += [R([1, 2])(rotation)(step), T(3)(stepZ)]\n",
    "        rotation += angle\n",
    "    \n",
    "    # uncomment to make a central column\n",
    "    # column = CYLINDER([radius, dz])(1000)\n",
    "    # return STRUCT([column] + steps)\n",
    "\n",
    "    return STRUCT(steps)\n"
   ]
  },
  {
   "cell_type": "code",
   "execution_count": null,
   "metadata": {
    "collapsed": false
   },
   "outputs": [],
   "source": [
    "output1 = ggpl_spiral_stairs(3.2, 3.2, 3)\n",
    "output2 = ggpl_spiral_stairs(2, 2, 3)\n",
    "VIEW(output1)\n",
    "VIEW(output2)"
   ]
  },
  {
   "cell_type": "code",
   "execution_count": null,
   "metadata": {
    "collapsed": true
   },
   "outputs": [],
   "source": []
  }
 ],
 "metadata": {
  "kernelspec": {
   "display_name": "Python 2",
   "language": "python",
   "name": "python2"
  },
  "language_info": {
   "codemirror_mode": {
    "name": "ipython",
    "version": 2
   },
   "file_extension": ".py",
   "mimetype": "text/x-python",
   "name": "python",
   "nbconvert_exporter": "python",
   "pygments_lexer": "ipython2",
   "version": "2.7.12+"
  }
 },
 "nbformat": 4,
 "nbformat_minor": 1
}
