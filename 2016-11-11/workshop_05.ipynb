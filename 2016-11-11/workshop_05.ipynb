{
 "cells": [
  {
   "cell_type": "code",
   "execution_count": 2,
   "metadata": {
    "collapsed": false
   },
   "outputs": [
    {
     "name": "stdout",
     "output_type": "stream",
     "text": [
      "Evaluating fenvs.py..\n",
      "...fenvs.py imported in 0.006592 seconds\n"
     ]
    },
    {
     "name": "stderr",
     "output_type": "stream",
     "text": [
      "/usr/local/lib/python2.7/dist-packages/larlib/larstruct.py:233: FutureWarning: comparison to `None` will result in an elementwise object comparison in the future.\n",
      "  self.body = [item for item in data if item != None]\n"
     ]
    }
   ],
   "source": [
    "import math\n",
    "from pyplasm import *\n",
    "from larlib import *"
   ]
  },
  {
   "cell_type": "code",
   "execution_count": 3,
   "metadata": {
    "collapsed": true
   },
   "outputs": [],
   "source": [
    "PARAMS = {\n",
    "    'common':\n",
    "    {\n",
    "        'circle_vertices': 60,\n",
    "        'curve_radius': 0.02\n",
    "    },\n",
    "    'colors':\n",
    "    {\n",
    "        'wood': (191, 161, 93),\n",
    "        'metal': (110, 110, 110)\n",
    "    },\n",
    "    'desk':\n",
    "    {\n",
    "        'x': 0.7,\n",
    "        'y': 0.5,\n",
    "        'z': 0.8,\n",
    "        'plane_width': 0.02,\n",
    "        'ud_percent': 0.1,\n",
    "        'ud_width': 0.01,\n",
    "        'legs_percent': 0.95,\n",
    "        'scale_factor1': 0.88,\n",
    "        'scale_factor2': 0.77,\n",
    "        'scale_factor3': 0.8\n",
    "    },\n",
    "    'leg':\n",
    "    {\n",
    "        'radius': 0.01,\n",
    "        'foot_z': 0.005,\n",
    "        'foot_r_percent': 1.1\n",
    "    },\n",
    "    'chair':\n",
    "    {\n",
    "        'x': 0.4,\n",
    "        'y': 0.4,\n",
    "        'z': 0.8\n",
    "    },\n",
    "    'bookshelf':\n",
    "    {\n",
    "        'shelf_z': 0.6,\n",
    "        'bookshelf_width': 0.02\n",
    "    }\n",
    "}"
   ]
  },
  {
   "cell_type": "code",
   "execution_count": 7,
   "metadata": {
    "collapsed": false
   },
   "outputs": [],
   "source": [
    "# wrapper to color with a 0..255 scale\n",
    "rgba = lambda r, g, b, a=1: COLOR([r / 255.0, g / 255.0, b / 255.0, a])\n",
    "\n",
    "def circle(origin, radius, start = 0, end = (2 * pi)):\n",
    "    \"\"\"\n",
    "        Returns a list of vertex describing the rotation\n",
    "        between start and end angles\n",
    "        Args:\n",
    "            origin: the origin of rotation\n",
    "            radius: radius of rotation\n",
    "            start: start angle\n",
    "            end: end angle\n",
    "    \"\"\"\n",
    "    v = int(PARAMS['common']['circle_vertices'] * (end - start) / (2 * pi))\n",
    "    inc = (2 * pi) / float(PARAMS['common']['circle_vertices'])\n",
    "    get_angle = lambda w: start + (inc * w)\n",
    "    x, y, z = origin\n",
    "    circle = [[x + (cos(get_angle(i)) * radius), y + (sin(get_angle(i)) * radius), z]\n",
    "           for i in range(0, v)]\n",
    "    return circle\n",
    "\n",
    "\n",
    "def rounded_corner(origin, radius, q):\n",
    "    \"\"\"\n",
    "        Returns a list of vertex describing a rounded corner\n",
    "        Args:\n",
    "            origin: the origin of the rotation\n",
    "            radius: radius of the rotation\n",
    "            q: quadrant of rotation\n",
    "    \"\"\"\n",
    "    start_angle = (0, (pi / 2.0), pi, ((3 * pi) / 2.0))[q - 1]\n",
    "    return circle(origin, radius, start_angle, start_angle + (pi / 2.0))\n",
    "\n",
    "\n",
    "def rounded_rectangle(x, y, radius):\n",
    "    \"\"\"\n",
    "        Returns an two-dimensional HPC with rounded corners\n",
    "        Args:\n",
    "            x: area width\n",
    "            y: area height\n",
    "            radius: curve of corner\n",
    "    \"\"\"\n",
    "    angle1 = rounded_corner((x - radius, y - radius, 0), radius, 1)\n",
    "    angle2 = rounded_corner((radius,  y - radius, 0), radius, 2)\n",
    "    angle3 = rounded_corner((radius, radius, 0), radius, 3)\n",
    "    angle4 = rounded_corner((x - radius, radius, 0), radius, 4)\n",
    "\n",
    "    plane = [angle1 + angle2 + angle3 + angle4,\n",
    "             [[i for i in range(1, (len(angle1) * 4) + 1)]],\n",
    "             None]\n",
    "    return MKPOL(plane)\n",
    "\n",
    "\n",
    "def legs(offset, size):\n",
    "    \"\"\"\n",
    "        Returns an HPC describing the four legs of a table or a chair\n",
    "        Args:\n",
    "            offset: distance between the sides of the area\n",
    "            size: size of the area to which the legs will be attached\n",
    "    \"\"\"\n",
    "    legsParams = PARAMS['leg']\n",
    "    x, y, z = size\n",
    "    z -= legsParams['foot_z']\n",
    "\n",
    "    # make pols\n",
    "    legPol = CYLINDER([legsParams['radius'], z])(PARAMS['common']['circle_vertices'])\n",
    "\n",
    "    legFootPol = CYLINDER([legsParams['radius'] * legsParams['foot_r_percent'],\n",
    "                           legsParams['foot_z']])(PARAMS['common']['circle_vertices'])\n",
    "\n",
    "    # color\n",
    "    legPol = rgba(*PARAMS['colors']['metal'])(legPol)\n",
    "    legFootPol = rgba(0, 0, 0)(legFootPol)\n",
    "\n",
    "    # make final leg\n",
    "    legPol = STRUCT([legFootPol,\n",
    "                     T(3)(legsParams['foot_z']),\n",
    "                     legPol])\n",
    "\n",
    "    # make legs\n",
    "    legsPol = STRUCT([T([1,2])([offset, offset]),\n",
    "                      legPol,\n",
    "                      T([1,2])([x - (offset * 2), 0]),\n",
    "                      legPol,\n",
    "                      T([1,2])([0, y - (offset * 2)]),\n",
    "                      legPol,\n",
    "                      T([1,2])([-(x - (offset * 2)), 0]),\n",
    "                      legPol])\n",
    "\n",
    "    return legsPol\n",
    "\n",
    "def ggpl_simple_chair():\n",
    "    \"\"\"\n",
    "        Returns an HPC describing a chair (unfinished)\n",
    "    \"\"\"\n",
    "\n",
    "    return STRUCT([legs(0.02, (0.4, 0.4, 0.6)), T(3)(0.6),\n",
    "                 OFFSET([0,0, 0.02])(rounded_rectangle(0.4, 0.4, 0.02))])\n",
    "\n",
    "\n",
    "def ggpl_desk():\n",
    "    \"\"\"\n",
    "        Returns an HPC describing a desk\n",
    "    \"\"\"\n",
    "    deskParams = PARAMS['desk']\n",
    "\n",
    "    scale1 = lambda x: x * deskParams['scale_factor1']\n",
    "    scale2 = lambda x: x * deskParams['scale_factor2']\n",
    "\n",
    "    offsetX = lambda f: (deskParams['x'] - f(deskParams['x'])) / 2.0\n",
    "    offsetY = lambda f: (deskParams['y'] - f(deskParams['y'])) * deskParams['scale_factor3']\n",
    "\n",
    "    offsetX1 = offsetX(scale1)\n",
    "    offsetX2 = offsetX(scale2)\n",
    "    offsetY1 = offsetY(scale1)\n",
    "    offsetY2 = offsetY(scale2)\n",
    "\n",
    "\n",
    "    underDeskHeight = deskParams['z'] * deskParams['ud_percent']\n",
    "\n",
    "\n",
    "    # make pols\n",
    "    legsPol = legs(PARAMS['common']['curve_radius'],\n",
    "                   (deskParams['x'], deskParams['y'],\n",
    "                    deskParams['z'] - deskParams['plane_width']))\n",
    "\n",
    "\n",
    "    underDeskPol = MKPOL([\n",
    "        [\n",
    "            [\n",
    "                offsetX1,\n",
    "                offsetY1,\n",
    "                underDeskHeight\n",
    "            ],\n",
    "            [\n",
    "                offsetX1,\n",
    "                offsetY1 + scale1(deskParams['y']),\n",
    "                underDeskHeight\n",
    "            ],\n",
    "            [\n",
    "                offsetX1 + scale1(deskParams['x']),\n",
    "                offsetY1,\n",
    "                underDeskHeight\n",
    "            ],\n",
    "            [\n",
    "                offsetX1 + scale1(deskParams['x']),\n",
    "                offsetY1 + scale1(deskParams['y']),\n",
    "                underDeskHeight\n",
    "            ],\n",
    "            [\n",
    "                offsetX2,\n",
    "                offsetY2,\n",
    "                0\n",
    "            ],\n",
    "            [\n",
    "                offsetX2,\n",
    "                offsetY2 + scale2(deskParams['y']),\n",
    "                0\n",
    "            ],\n",
    "            [\n",
    "                offsetX2 + scale2(deskParams['x']),\n",
    "                offsetY2,\n",
    "                0\n",
    "            ],\n",
    "            [\n",
    "                offsetX2 + scale2(deskParams['x']),\n",
    "                offsetY2 + scale2(deskParams['y']),\n",
    "                0\n",
    "            ]\n",
    "        ],\n",
    "        [\n",
    "            [5, 6, 7, 8],\n",
    "            [1, 2, 5, 6],\n",
    "            [2, 4, 6, 8],\n",
    "            [3, 4, 7, 8]\n",
    "        ],\n",
    "        None\n",
    "    ])\n",
    "\n",
    "    planePol = rounded_rectangle(deskParams['x'],\n",
    "                                 deskParams['y'],\n",
    "                                 PARAMS['common']['curve_radius'])\n",
    "\n",
    "    # make offsets\n",
    "    underDeskPol = OFFSET([deskParams['ud_width'],\n",
    "                           deskParams['ud_width'],\n",
    "                           deskParams['ud_width']])(underDeskPol)\n",
    "\n",
    "    planePol = OFFSET([0, 0, deskParams['plane_width']])(planePol)\n",
    "\n",
    "    # colorize\n",
    "    underDeskPol = rgba(*PARAMS['colors']['metal'])(underDeskPol)\n",
    "    planePol = rgba(*PARAMS['colors']['wood'])(planePol)\n",
    "\n",
    "    # create final HPC\n",
    "    deskPol = STRUCT([underDeskPol, T(3)(underDeskHeight), planePol])\n",
    "    deskPol = STRUCT([legsPol,\n",
    "                      T(3)((deskParams['z'] -\n",
    "                            deskParams['plane_width']) -\n",
    "                           underDeskHeight),\n",
    "                      deskPol])\n",
    "\n",
    "    return deskPol\n",
    "\n",
    "\n",
    "def ggpl_bookshelf(x, y, shelves):\n",
    "    \"\"\"\n",
    "        Returns an HPC object describing a bookshelf\n",
    "        Args:\n",
    "            x: size (x-axis)\n",
    "            y: size (y-axis)\n",
    "            shelves: number of shelves\n",
    "    \"\"\"\n",
    "    bookshelfParams = PARAMS['bookshelf']\n",
    "    v = []\n",
    "    f = []\n",
    "\n",
    "    baseShelf = [(0, 0, 0), (x, 0, 0), (0, y, 0), (x, y, 0)]\n",
    "\n",
    "    # utility functions\n",
    "\n",
    "    # addZ([x, y, w], z) -> [x, y, w + z]\n",
    "    addZ = lambda a, z: [a[0], a[1], a[2] + z]\n",
    "    addShelf = lambda z: [addZ(baseShelf[0], z), addZ(baseShelf[1], z),\n",
    "                          addZ(baseShelf[2], z), addZ(baseShelf[3], z)]\n",
    "\n",
    "    for i in range(0, shelves + 1):\n",
    "        point = i * 4\n",
    "        v += addShelf(bookshelfParams['shelf_z'] * i)\n",
    "        f.append([(point + 1), (point + 2), (point + 3), (point + 4)])\n",
    "\n",
    "    last = len(v)\n",
    "    f += [[3, 4, last - 1, last],\n",
    "          [1, 3, last - 3, last - 1],\n",
    "          [2, 4, last - 2, last]]\n",
    "\n",
    "    # make pol\n",
    "\n",
    "    bookshelfPol = MKPOL([v, f, None])\n",
    "\n",
    "    # make offset\n",
    "\n",
    "    bookshelfPol = OFFSET([bookshelfParams['bookshelf_width'],\n",
    "                           bookshelfParams['bookshelf_width'],\n",
    "                           bookshelfParams['bookshelf_width']])(bookshelfPol)\n",
    "\n",
    "    # color\n",
    "\n",
    "    bookshelfPol = rgba(*PARAMS['colors']['wood'])(bookshelfPol)\n",
    "\n",
    "    return bookshelfPol"
   ]
  },
  {
   "cell_type": "markdown",
   "metadata": {},
   "source": [
    "#### Simple Chair (unfinished)"
   ]
  },
  {
   "cell_type": "code",
   "execution_count": 8,
   "metadata": {
    "collapsed": false
   },
   "outputs": [
    {
     "data": {
      "text/plain": [
       "<pyplasm.xgepy.Hpc; proxy of <Swig Object of type 'std::shared_ptr< Hpc > *' at 0x7f7a18575030> >"
      ]
     },
     "execution_count": 8,
     "metadata": {},
     "output_type": "execute_result"
    }
   ],
   "source": [
    "VIEW(ggpl_simple_chair())"
   ]
  },
  {
   "cell_type": "markdown",
   "metadata": {
    "collapsed": true
   },
   "source": [
    "![](chair.png)"
   ]
  },
  {
   "cell_type": "markdown",
   "metadata": {
    "collapsed": true
   },
   "source": [
    "#### Desk"
   ]
  },
  {
   "cell_type": "code",
   "execution_count": 11,
   "metadata": {
    "collapsed": false
   },
   "outputs": [
    {
     "data": {
      "text/plain": [
       "<pyplasm.xgepy.Hpc; proxy of <Swig Object of type 'std::shared_ptr< Hpc > *' at 0x7f79e41b4450> >"
      ]
     },
     "execution_count": 11,
     "metadata": {},
     "output_type": "execute_result"
    }
   ],
   "source": [
    "VIEW(ggpl_desk())"
   ]
  },
  {
   "cell_type": "markdown",
   "metadata": {},
   "source": [
    "![](desk.png)"
   ]
  },
  {
   "cell_type": "markdown",
   "metadata": {},
   "source": [
    "#### Bookshelf"
   ]
  },
  {
   "cell_type": "code",
   "execution_count": 14,
   "metadata": {
    "collapsed": false
   },
   "outputs": [
    {
     "data": {
      "text/plain": [
       "<pyplasm.xgepy.Hpc; proxy of <Swig Object of type 'std::shared_ptr< Hpc > *' at 0x7f79e41f9030> >"
      ]
     },
     "execution_count": 14,
     "metadata": {},
     "output_type": "execute_result"
    }
   ],
   "source": [
    "VIEW(ggpl_bookshelf(2, 0.6, 5))"
   ]
  },
  {
   "cell_type": "markdown",
   "metadata": {},
   "source": [
    "![](bookshelf.png)"
   ]
  },
  {
   "cell_type": "code",
   "execution_count": null,
   "metadata": {
    "collapsed": true
   },
   "outputs": [],
   "source": []
  }
 ],
 "metadata": {
  "kernelspec": {
   "display_name": "Python 2",
   "language": "python",
   "name": "python2"
  },
  "language_info": {
   "codemirror_mode": {
    "name": "ipython",
    "version": 2
   },
   "file_extension": ".py",
   "mimetype": "text/x-python",
   "name": "python",
   "nbconvert_exporter": "python",
   "pygments_lexer": "ipython2",
   "version": "2.7.12"
  }
 },
 "nbformat": 4,
 "nbformat_minor": 1
}
